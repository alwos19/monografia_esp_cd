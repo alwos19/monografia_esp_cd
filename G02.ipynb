{
 "cells": [
  {
   "cell_type": "markdown",
   "id": "5404ab67",
   "metadata": {},
   "source": [
    "# **Predicción del Movimiento de Nubes para la Optimización de Plantas Fotovoltaicas en Colombia**"
   ]
  },
  {
   "cell_type": "markdown",
   "id": "49a091c7",
   "metadata": {},
   "source": [
    "## 1) Descarga de imágenes"
   ]
  },
  {
   "cell_type": "markdown",
   "id": "a195d589",
   "metadata": {},
   "source": [
    "A continuación se muestra el código empleado para la descarga de imágenes correspondientes a la banda 13 para el periodo de tiempo comprendido entre el 01/01/2024 y el 31/12/2024. Ingresar al siguiente repositorio de github: https://github.com/alwos19/monografia_esp_cd"
   ]
  },
  {
   "cell_type": "markdown",
   "id": "78b2009f",
   "metadata": {},
   "source": [
    "## 2) Obtención del dataset"
   ]
  },
  {
   "cell_type": "markdown",
   "id": "f70ce310",
   "metadata": {},
   "source": [
    "A partir de las imagenes obtenidas se realiza la construcción de una dataset en el que las columnas correspondan a cada hora del día y las filas a cada día del año, dentro de cada celda se ubica la imagen correspondiente con una tamaño de 920X920, el valor de cada pixel corresponde a los valores de radiancia para le día y la hora correspondientes."
   ]
  },
  {
   "cell_type": "code",
   "execution_count": 7,
   "id": "c9e7d5b2",
   "metadata": {
    "slideshow": {
     "slide_type": "slide"
    }
   },
   "outputs": [
    {
     "name": "stdout",
     "output_type": "stream",
     "text": [
      "Empty DataFrame\n",
      "Columns: []\n",
      "Index: []\n"
     ]
    }
   ],
   "source": [
    "import os\n",
    "import numpy as np\n",
    "import pandas as pd\n",
    "from datetime import datetime\n",
    "\n",
    "# Ruta donde están almacenados los archivos .npy\n",
    "ruta_archivos = \"./rad13\"  # Cambia esto por la ruta real\n",
    "\n",
    "# Lista para almacenar los datos\n",
    "datos = []\n",
    "\n",
    "# Recorrer todos los archivos en la carpeta\n",
    "for archivo in os.listdir(ruta_archivos):\n",
    "    if archivo.endswith(\".npy\") and archivo.startswith(\"Rad13_\"):\n",
    "        # Extraer la parte de fecha y hora del nombre del archivo\n",
    "        nombre = archivo.replace(\"Rad13_\", \"\").replace(\".npy\", \"\")\n",
    "        fecha_str = nombre[:12]  # 'YYYYMMDDHHHH'\n",
    "\n",
    "        try:\n",
    "            # Convertir a objeto datetime\n",
    "            fecha_datetime = datetime.strptime(fecha_str, \"%Y%m%d%H%M\")\n",
    "            hora = fecha_datetime.strftime(\"%H:%M\")\n",
    "\n",
    "            # Cargar los valores de radiancia\n",
    "            ruta_completa = os.path.join(ruta_archivos, archivo)\n",
    "            radiancia = np.load(ruta_completa)\n",
    "\n",
    "            # Validar que la dimensión sea 920 x 920\n",
    "            if radiancia.shape == (920, 920):\n",
    "                datos.append({\n",
    "                    \"fecha\": fecha_datetime,\n",
    "                    \"hora\": hora,\n",
    "                    \"radiancia\": radiancia\n",
    "                })\n",
    "            else:\n",
    "                print(f\"Dimensiones incorrectas en: {archivo}\")\n",
    "        except ValueError:\n",
    "            print(f\"Formato de fecha inválido en: {archivo}\")\n",
    "\n",
    "# Crear el DataFrame\n",
    "df_imagenes = pd.DataFrame(datos)\n",
    "\n",
    "# Mostrar primeras filas\n",
    "print(df_imagenes.head())"
   ]
  },
  {
   "cell_type": "code",
   "execution_count": 8,
   "id": "2b39e14b",
   "metadata": {},
   "outputs": [
    {
     "data": {
      "text/html": [
       "<div>\n",
       "<style scoped>\n",
       "    .dataframe tbody tr th:only-of-type {\n",
       "        vertical-align: middle;\n",
       "    }\n",
       "\n",
       "    .dataframe tbody tr th {\n",
       "        vertical-align: top;\n",
       "    }\n",
       "\n",
       "    .dataframe thead th {\n",
       "        text-align: right;\n",
       "    }\n",
       "</style>\n",
       "<table border=\"1\" class=\"dataframe\">\n",
       "  <thead>\n",
       "    <tr style=\"text-align: right;\">\n",
       "      <th></th>\n",
       "    </tr>\n",
       "  </thead>\n",
       "  <tbody>\n",
       "  </tbody>\n",
       "</table>\n",
       "</div>"
      ],
      "text/plain": [
       "Empty DataFrame\n",
       "Columns: []\n",
       "Index: []"
      ]
     },
     "execution_count": 8,
     "metadata": {},
     "output_type": "execute_result"
    }
   ],
   "source": [
    "df_imagenes"
   ]
  },
  {
   "cell_type": "code",
   "execution_count": null,
   "id": "ea89751e",
   "metadata": {},
   "outputs": [],
   "source": []
  }
 ],
 "metadata": {
  "kernelspec": {
   "display_name": "data8",
   "language": "python",
   "name": "python3"
  },
  "language_info": {
   "codemirror_mode": {
    "name": "ipython",
    "version": 3
   },
   "file_extension": ".py",
   "mimetype": "text/x-python",
   "name": "python",
   "nbconvert_exporter": "python",
   "pygments_lexer": "ipython3",
   "version": "3.10.12"
  }
 },
 "nbformat": 4,
 "nbformat_minor": 5
}
