{
 "cells": [
  {
   "cell_type": "code",
   "execution_count": 12,
   "id": "f21582a5",
   "metadata": {},
   "outputs": [
    {
     "name": "stdout",
     "output_type": "stream",
     "text": [
      "Total archivos en rad13: 8744\n",
      "RadFC_20240515160020_Rad13.npy\n",
      "RadFC_20240919140020_Rad13.npy\n",
      "RadFC_20240906010020_Rad13.npy\n",
      "RadFC_20240303020020_Rad13.npy\n",
      "RadFC_20240221000020_Rad13.npy\n",
      "RadFC_20240818120020_Rad13.npy\n",
      "RadFC_20240418190020_Rad13.npy\n",
      "RadFC_20240701130021_Rad13.npy\n",
      "RadFC_20240803230020_Rad13.npy\n",
      "RadFC_20240812150020_Rad13.npy\n"
     ]
    }
   ],
   "source": [
    "import os\n",
    "\n",
    "directorio = \"rad13\"\n",
    "archivos = os.listdir(directorio)\n",
    "print(f\"Total archivos en {directorio}: {len(archivos)}\")\n",
    "for archivo in archivos[:10]:  # Muestra solo los primeros 10\n",
    "    print(archivo)"
   ]
  },
  {
   "cell_type": "code",
   "execution_count": 13,
   "id": "e01efff3",
   "metadata": {},
   "outputs": [
    {
     "name": "stdout",
     "output_type": "stream",
     "text": [
      "Número de archivos faltantes: 61\n",
      "Guardado en archivos_faltantes.csv\n"
     ]
    }
   ],
   "source": [
    "import os\n",
    "from datetime import datetime, timedelta\n",
    "import pandas as pd\n",
    "\n",
    "directorio = \"rad13\"\n",
    "fecha_inicio = datetime.strptime(\"20240101\", \"%Y%m%d\")\n",
    "fecha_fin = datetime.strptime(\"20241231\", \"%Y%m%d\")\n",
    "\n",
    "# Generar todas las fechas y horas esperadas\n",
    "fechas_horas_esperadas = set()\n",
    "fecha_actual = fecha_inicio\n",
    "while fecha_actual <= fecha_fin:\n",
    "    for hora in range(24):\n",
    "        fecha_hora = fecha_actual.strftime(\"%Y%m%d\") + f\"{hora:02d}00\"\n",
    "        fechas_horas_esperadas.add(fecha_hora)\n",
    "    fecha_actual += timedelta(days=1)\n",
    "\n",
    "# Obtener fechas y horas presentes en los archivos del directorio\n",
    "fechas_horas_presentes = set()\n",
    "for archivo in os.listdir(directorio):\n",
    "    if archivo.startswith(\"RadFC_\") and archivo.endswith(\"_Rad13.npy\"):\n",
    "        fecha_hora_str = archivo[6:18]  # YYYYMMDDHHMM\n",
    "        if fecha_hora_str.isdigit():\n",
    "            fechas_horas_presentes.add(fecha_hora_str)\n",
    "\n",
    "# Encontrar fechas y horas faltantes\n",
    "faltantes = sorted(fechas_horas_esperadas - fechas_horas_presentes)\n",
    "\n",
    "# Guardar en un archivo CSV\n",
    "df_faltantes = pd.DataFrame(faltantes, columns=[\"fecha_hora_faltante\"])\n",
    "df_faltantes.to_csv(\"archivos_faltantes.csv\", index=False)\n",
    "\n",
    "print(f\"Número de archivos faltantes: {len(faltantes)}\")\n",
    "print(\"Guardado en archivos_faltantes.csv\")"
   ]
  },
  {
   "cell_type": "code",
   "execution_count": null,
   "id": "04b4d5c2",
   "metadata": {},
   "outputs": [],
   "source": []
  }
 ],
 "metadata": {
  "kernelspec": {
   "display_name": "data",
   "language": "python",
   "name": "python3"
  },
  "language_info": {
   "codemirror_mode": {
    "name": "ipython",
    "version": 3
   },
   "file_extension": ".py",
   "mimetype": "text/x-python",
   "name": "python",
   "nbconvert_exporter": "python",
   "pygments_lexer": "ipython3",
   "version": "3.10.12"
  }
 },
 "nbformat": 4,
 "nbformat_minor": 5
}
