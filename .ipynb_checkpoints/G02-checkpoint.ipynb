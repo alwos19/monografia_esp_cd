{
 "cells": [
  {
   "cell_type": "markdown",
   "id": "5404ab67",
   "metadata": {},
   "source": [
    "# **Predicción del Movimiento de Nubes para la Optimización de Plantas Fotovoltaicas en Colombia**"
   ]
  },
  {
   "cell_type": "markdown",
   "id": "49a091c7",
   "metadata": {},
   "source": [
    "## 1) Descarga de imágenes"
   ]
  },
  {
   "cell_type": "markdown",
   "id": "a195d589",
   "metadata": {},
   "source": [
    "A continuación se muestra el código empleado para la descarga de imágenes correspondientes a la banda 13 para el periodo de tiempo comprendido entre el 01/01/2024 y el 31/12/2024. Ingresar al siguiente repositorio de github: https://github.com/alwos19/monografia_esp_cd"
   ]
  },
  {
   "cell_type": "markdown",
   "id": "78b2009f",
   "metadata": {},
   "source": [
    "## 2) Obtención del dataset"
   ]
  },
  {
   "cell_type": "markdown",
   "id": "f70ce310",
   "metadata": {},
   "source": [
    "A partir de las imagenes obtenidas se realiza la construcción de una dataset en el que las columnas correspondan a cada hora del día y las filas a cada día del año, dentro de cada celda se ubica la imagen correspondiente con una tamaño de 920X920, el valor de cada pixel corresponde a los valores de radiancia para le día y la hora correspondientes."
   ]
  },
  {
   "cell_type": "code",
   "execution_count": 3,
   "id": "c9e7d5b2",
   "metadata": {
    "slideshow": {
     "slide_type": "slide"
    }
   },
   "outputs": [
    {
     "ename": "KeyboardInterrupt",
     "evalue": "",
     "output_type": "error",
     "traceback": [
      "\u001b[0;31m---------------------------------------------------------------------------\u001b[0m",
      "\u001b[0;31mKeyboardInterrupt\u001b[0m                         Traceback (most recent call last)",
      "Cell \u001b[0;32mIn[3], line 50\u001b[0m\n\u001b[1;32m     47\u001b[0m     \u001b[38;5;28;01mreturn\u001b[39;00m datos\n\u001b[1;32m     49\u001b[0m \u001b[38;5;66;03m# Ejecutar el procesamiento\u001b[39;00m\n\u001b[0;32m---> 50\u001b[0m datos \u001b[38;5;241m=\u001b[39m \u001b[43mprocesar_archivos_en_paralelo\u001b[49m\u001b[43m(\u001b[49m\u001b[43mruta_archivos\u001b[49m\u001b[43m)\u001b[49m\n\u001b[1;32m     52\u001b[0m \u001b[38;5;66;03m# Crear el DataFrame\u001b[39;00m\n\u001b[1;32m     53\u001b[0m df_imagenes \u001b[38;5;241m=\u001b[39m pd\u001b[38;5;241m.\u001b[39mDataFrame(datos)\n",
      "Cell \u001b[0;32mIn[3], line 44\u001b[0m, in \u001b[0;36mprocesar_archivos_en_paralelo\u001b[0;34m(ruta_archivos)\u001b[0m\n\u001b[1;32m     42\u001b[0m \u001b[38;5;28;01mwith\u001b[39;00m ProcessPoolExecutor() \u001b[38;5;28;01mas\u001b[39;00m executor:\n\u001b[1;32m     43\u001b[0m     resultados \u001b[38;5;241m=\u001b[39m executor\u001b[38;5;241m.\u001b[39mmap(procesar_archivo, archivos)\n\u001b[0;32m---> 44\u001b[0m     \u001b[38;5;28;01mfor\u001b[39;00m resultado \u001b[38;5;129;01min\u001b[39;00m resultados:\n\u001b[1;32m     45\u001b[0m         \u001b[38;5;28;01mif\u001b[39;00m resultado \u001b[38;5;129;01mis\u001b[39;00m \u001b[38;5;129;01mnot\u001b[39;00m \u001b[38;5;28;01mNone\u001b[39;00m:\n\u001b[1;32m     46\u001b[0m             datos\u001b[38;5;241m.\u001b[39mappend(resultado)\n",
      "File \u001b[0;32m/usr/lib/python3.10/concurrent/futures/process.py:575\u001b[0m, in \u001b[0;36m_chain_from_iterable_of_lists\u001b[0;34m(iterable)\u001b[0m\n\u001b[1;32m    569\u001b[0m \u001b[38;5;28;01mdef\u001b[39;00m \u001b[38;5;21m_chain_from_iterable_of_lists\u001b[39m(iterable):\n\u001b[1;32m    570\u001b[0m \u001b[38;5;250m    \u001b[39m\u001b[38;5;124;03m\"\"\"\u001b[39;00m\n\u001b[1;32m    571\u001b[0m \u001b[38;5;124;03m    Specialized implementation of itertools.chain.from_iterable.\u001b[39;00m\n\u001b[1;32m    572\u001b[0m \u001b[38;5;124;03m    Each item in *iterable* should be a list.  This function is\u001b[39;00m\n\u001b[1;32m    573\u001b[0m \u001b[38;5;124;03m    careful not to keep references to yielded objects.\u001b[39;00m\n\u001b[1;32m    574\u001b[0m \u001b[38;5;124;03m    \"\"\"\u001b[39;00m\n\u001b[0;32m--> 575\u001b[0m     \u001b[38;5;28;01mfor\u001b[39;00m element \u001b[38;5;129;01min\u001b[39;00m iterable:\n\u001b[1;32m    576\u001b[0m         element\u001b[38;5;241m.\u001b[39mreverse()\n\u001b[1;32m    577\u001b[0m         \u001b[38;5;28;01mwhile\u001b[39;00m element:\n",
      "File \u001b[0;32m/usr/lib/python3.10/concurrent/futures/_base.py:621\u001b[0m, in \u001b[0;36mExecutor.map.<locals>.result_iterator\u001b[0;34m()\u001b[0m\n\u001b[1;32m    618\u001b[0m \u001b[38;5;28;01mwhile\u001b[39;00m fs:\n\u001b[1;32m    619\u001b[0m     \u001b[38;5;66;03m# Careful not to keep a reference to the popped future\u001b[39;00m\n\u001b[1;32m    620\u001b[0m     \u001b[38;5;28;01mif\u001b[39;00m timeout \u001b[38;5;129;01mis\u001b[39;00m \u001b[38;5;28;01mNone\u001b[39;00m:\n\u001b[0;32m--> 621\u001b[0m         \u001b[38;5;28;01myield\u001b[39;00m \u001b[43m_result_or_cancel\u001b[49m\u001b[43m(\u001b[49m\u001b[43mfs\u001b[49m\u001b[38;5;241;43m.\u001b[39;49m\u001b[43mpop\u001b[49m\u001b[43m(\u001b[49m\u001b[43m)\u001b[49m\u001b[43m)\u001b[49m\n\u001b[1;32m    622\u001b[0m     \u001b[38;5;28;01melse\u001b[39;00m:\n\u001b[1;32m    623\u001b[0m         \u001b[38;5;28;01myield\u001b[39;00m _result_or_cancel(fs\u001b[38;5;241m.\u001b[39mpop(), end_time \u001b[38;5;241m-\u001b[39m time\u001b[38;5;241m.\u001b[39mmonotonic())\n",
      "File \u001b[0;32m/usr/lib/python3.10/concurrent/futures/_base.py:319\u001b[0m, in \u001b[0;36m_result_or_cancel\u001b[0;34m(***failed resolving arguments***)\u001b[0m\n\u001b[1;32m    317\u001b[0m \u001b[38;5;28;01mtry\u001b[39;00m:\n\u001b[1;32m    318\u001b[0m     \u001b[38;5;28;01mtry\u001b[39;00m:\n\u001b[0;32m--> 319\u001b[0m         \u001b[38;5;28;01mreturn\u001b[39;00m \u001b[43mfut\u001b[49m\u001b[38;5;241;43m.\u001b[39;49m\u001b[43mresult\u001b[49m\u001b[43m(\u001b[49m\u001b[43mtimeout\u001b[49m\u001b[43m)\u001b[49m\n\u001b[1;32m    320\u001b[0m     \u001b[38;5;28;01mfinally\u001b[39;00m:\n\u001b[1;32m    321\u001b[0m         fut\u001b[38;5;241m.\u001b[39mcancel()\n",
      "File \u001b[0;32m/usr/lib/python3.10/concurrent/futures/_base.py:453\u001b[0m, in \u001b[0;36mFuture.result\u001b[0;34m(self, timeout)\u001b[0m\n\u001b[1;32m    450\u001b[0m \u001b[38;5;28;01melif\u001b[39;00m \u001b[38;5;28mself\u001b[39m\u001b[38;5;241m.\u001b[39m_state \u001b[38;5;241m==\u001b[39m FINISHED:\n\u001b[1;32m    451\u001b[0m     \u001b[38;5;28;01mreturn\u001b[39;00m \u001b[38;5;28mself\u001b[39m\u001b[38;5;241m.\u001b[39m__get_result()\n\u001b[0;32m--> 453\u001b[0m \u001b[38;5;28;43mself\u001b[39;49m\u001b[38;5;241;43m.\u001b[39;49m\u001b[43m_condition\u001b[49m\u001b[38;5;241;43m.\u001b[39;49m\u001b[43mwait\u001b[49m\u001b[43m(\u001b[49m\u001b[43mtimeout\u001b[49m\u001b[43m)\u001b[49m\n\u001b[1;32m    455\u001b[0m \u001b[38;5;28;01mif\u001b[39;00m \u001b[38;5;28mself\u001b[39m\u001b[38;5;241m.\u001b[39m_state \u001b[38;5;129;01min\u001b[39;00m [CANCELLED, CANCELLED_AND_NOTIFIED]:\n\u001b[1;32m    456\u001b[0m     \u001b[38;5;28;01mraise\u001b[39;00m CancelledError()\n",
      "File \u001b[0;32m/usr/lib/python3.10/threading.py:320\u001b[0m, in \u001b[0;36mCondition.wait\u001b[0;34m(self, timeout)\u001b[0m\n\u001b[1;32m    318\u001b[0m \u001b[38;5;28;01mtry\u001b[39;00m:    \u001b[38;5;66;03m# restore state no matter what (e.g., KeyboardInterrupt)\u001b[39;00m\n\u001b[1;32m    319\u001b[0m     \u001b[38;5;28;01mif\u001b[39;00m timeout \u001b[38;5;129;01mis\u001b[39;00m \u001b[38;5;28;01mNone\u001b[39;00m:\n\u001b[0;32m--> 320\u001b[0m         \u001b[43mwaiter\u001b[49m\u001b[38;5;241;43m.\u001b[39;49m\u001b[43macquire\u001b[49m\u001b[43m(\u001b[49m\u001b[43m)\u001b[49m\n\u001b[1;32m    321\u001b[0m         gotit \u001b[38;5;241m=\u001b[39m \u001b[38;5;28;01mTrue\u001b[39;00m\n\u001b[1;32m    322\u001b[0m     \u001b[38;5;28;01melse\u001b[39;00m:\n",
      "\u001b[0;31mKeyboardInterrupt\u001b[0m: "
     ]
    }
   ],
   "source": [
    "import os\n",
    "import numpy as np\n",
    "import pandas as pd\n",
    "from datetime import datetime\n",
    "import matplotlib.pyplot as plt\n",
    "from concurrent.futures import ProcessPoolExecutor\n",
    "\n",
    "# Ruta donde están almacenados los archivos .npy\n",
    "ruta_archivos = \"./rad13\"  # Cambia esto por la ruta real\n",
    "\n",
    "# Función para procesar un archivo individual\n",
    "def procesar_archivo(archivo):\n",
    "    if archivo.endswith(\".npy\") and archivo.startswith(\"RadFC_\"):\n",
    "        # Extraer la parte de fecha y hora del nombre del archivo\n",
    "        try:\n",
    "            nombre = archivo.replace(\"RadFC_\", \"\").replace(\"_Rad13.npy\", \"\")\n",
    "            fecha_str = nombre[:12]  # 'YYYYMMDDHHMM'\n",
    "            fecha_datetime = datetime.strptime(fecha_str, \"%Y%m%d%H%M\")\n",
    "            hora = fecha_datetime.strftime(\"%H:%M\")\n",
    "\n",
    "            # Cargar los valores de radiancia\n",
    "            ruta_completa = os.path.join(ruta_archivos, archivo)\n",
    "            radiancia = np.load(ruta_completa)\n",
    "\n",
    "            # Validar que la dimensión sea 920 x 920\n",
    "            if radiancia.shape == (920, 920):\n",
    "                return {\n",
    "                    \"fecha\": fecha_datetime,\n",
    "                    \"hora\": hora,\n",
    "                    \"radiancia\": radiancia\n",
    "                }\n",
    "            else:\n",
    "                print(f\"Dimensiones incorrectas en: {archivo}\")\n",
    "        except ValueError:\n",
    "            print(f\"Formato de fecha inválido en: {archivo}\")\n",
    "    return None\n",
    "\n",
    "# Procesar archivos en paralelo\n",
    "def procesar_archivos_en_paralelo(ruta_archivos):\n",
    "    archivos = os.listdir(ruta_archivos)\n",
    "    datos = []\n",
    "    with ProcessPoolExecutor() as executor:\n",
    "        resultados = executor.map(procesar_archivo, archivos)\n",
    "        for resultado in resultados:\n",
    "            if resultado is not None:\n",
    "                datos.append(resultado)\n",
    "    return datos\n",
    "\n",
    "# Ejecutar el procesamiento\n",
    "datos = procesar_archivos_en_paralelo(ruta_archivos)\n",
    "\n",
    "# Crear el DataFrame\n",
    "df_imagenes = pd.DataFrame(datos)\n",
    "\n",
    "# Mostrar primeras filas\n",
    "print(df_imagenes.head())"
   ]
  },
  {
   "cell_type": "code",
   "execution_count": null,
   "id": "7c2a5956",
   "metadata": {},
   "outputs": [],
   "source": []
  },
  {
   "cell_type": "code",
   "execution_count": 10,
   "id": "ea89751e",
   "metadata": {},
   "outputs": [
    {
     "data": {
      "text/html": [
       "<div>\n",
       "<style scoped>\n",
       "    .dataframe tbody tr th:only-of-type {\n",
       "        vertical-align: middle;\n",
       "    }\n",
       "\n",
       "    .dataframe tbody tr th {\n",
       "        vertical-align: top;\n",
       "    }\n",
       "\n",
       "    .dataframe thead th {\n",
       "        text-align: right;\n",
       "    }\n",
       "</style>\n",
       "<table border=\"1\" class=\"dataframe\">\n",
       "  <thead>\n",
       "    <tr style=\"text-align: right;\">\n",
       "      <th></th>\n",
       "      <th>fecha</th>\n",
       "      <th>hora</th>\n",
       "      <th>radiancia</th>\n",
       "    </tr>\n",
       "  </thead>\n",
       "  <tbody>\n",
       "    <tr>\n",
       "      <th>0</th>\n",
       "      <td>2024-01-01 02:00:00</td>\n",
       "      <td>02:00</td>\n",
       "      <td>[[98.684944, 98.82213, 98.684944, 98.86786, 98...</td>\n",
       "    </tr>\n",
       "    <tr>\n",
       "      <th>1</th>\n",
       "      <td>2024-01-01 00:00:00</td>\n",
       "      <td>00:00</td>\n",
       "      <td>[[97.861824, 97.67891, 97.22162, 97.084435, 97...</td>\n",
       "    </tr>\n",
       "  </tbody>\n",
       "</table>\n",
       "</div>"
      ],
      "text/plain": [
       "                fecha   hora  \\\n",
       "0 2024-01-01 02:00:00  02:00   \n",
       "1 2024-01-01 00:00:00  00:00   \n",
       "\n",
       "                                           radiancia  \n",
       "0  [[98.684944, 98.82213, 98.684944, 98.86786, 98...  \n",
       "1  [[97.861824, 97.67891, 97.22162, 97.084435, 97...  "
      ]
     },
     "execution_count": 10,
     "metadata": {},
     "output_type": "execute_result"
    }
   ],
   "source": [
    "df_imagenes.head(2)"
   ]
  },
  {
   "cell_type": "code",
   "execution_count": 12,
   "id": "51d5e87e",
   "metadata": {},
   "outputs": [
    {
     "data": {
      "image/png": "[encoded data removed]",
      "text/plain": [
       "<Figure size 1000x600 with 1 Axes>"
      ]
     },
     "metadata": {},
     "output_type": "display_data"
    }
   ],
   "source": [
    "# Calcular el promedio de radiancia para cada imagen\n",
    "df_imagenes[\"radiancia_promedio\"] = df_imagenes[\"radiancia\"].apply(np.mean)\n",
    "\n",
    "# Verificar número de registros\n",
    "assert len(df_imagenes) == 6, \"La cantidad de registros no es 6002.\"\n",
    "\n",
    "# Calcular la media global de los promedios de radiancia\n",
    "media_global = df_imagenes[\"radiancia_promedio\"].mean()\n",
    "\n",
    "# Graficar el histograma\n",
    "plt.figure(figsize=(10, 6))\n",
    "plt.hist(df_imagenes[\"radiancia_promedio\"], bins=50, color='skyblue', edgecolor='black')\n",
    "plt.axvline(media_global, color='red', linestyle='--', linewidth=2, label=f\"Media = {media_global:.2f}\")\n",
    "plt.title(\"Histograma de Radiancia Promedio por Imagen\")\n",
    "plt.xlabel(\"Radiancia Promedio\")\n",
    "plt.ylabel(\"Frecuencia\")\n",
    "plt.legend()\n",
    "plt.grid(True)\n",
    "plt.tight_layout()\n",
    "plt.show()"
   ]
  },
  {
   "cell_type": "code",
   "execution_count": null,
   "id": "f6116073",
   "metadata": {},
   "outputs": [],
   "source": []
  },
  {
   "cell_type": "code",
   "execution_count": null,
   "id": "50bab10d",
   "metadata": {},
   "outputs": [],
   "source": []
  },
  {
   "cell_type": "code",
   "execution_count": 5,
   "id": "98a65a8b",
   "metadata": {},
   "outputs": [],
   "source": [
    "df_imagenes['fecha'] = pd.to_datetime(df_imagenes['fecha'])"
   ]
  },
  {
   "cell_type": "code",
   "execution_count": 6,
   "id": "ddee8280",
   "metadata": {},
   "outputs": [
    {
     "data": {
      "text/html": [
       "<div>\n",
       "<style scoped>\n",
       "    .dataframe tbody tr th:only-of-type {\n",
       "        vertical-align: middle;\n",
       "    }\n",
       "\n",
       "    .dataframe tbody tr th {\n",
       "        vertical-align: top;\n",
       "    }\n",
       "\n",
       "    .dataframe thead th {\n",
       "        text-align: right;\n",
       "    }\n",
       "</style>\n",
       "<table border=\"1\" class=\"dataframe\">\n",
       "  <thead>\n",
       "    <tr style=\"text-align: right;\">\n",
       "      <th></th>\n",
       "      <th>fecha</th>\n",
       "      <th>hora</th>\n",
       "      <th>radiancia</th>\n",
       "    </tr>\n",
       "  </thead>\n",
       "  <tbody>\n",
       "    <tr>\n",
       "      <th>0</th>\n",
       "      <td>2024-01-01 02:00:00</td>\n",
       "      <td>02:00</td>\n",
       "      <td>[[98.684944, 98.82213, 98.684944, 98.86786, 98...</td>\n",
       "    </tr>\n",
       "    <tr>\n",
       "      <th>1</th>\n",
       "      <td>2024-01-01 00:00:00</td>\n",
       "      <td>00:00</td>\n",
       "      <td>[[97.861824, 97.67891, 97.22162, 97.084435, 97...</td>\n",
       "    </tr>\n",
       "    <tr>\n",
       "      <th>2</th>\n",
       "      <td>2024-01-01 03:00:00</td>\n",
       "      <td>03:00</td>\n",
       "      <td>[[97.99901, 98.41057, 98.684944, 98.776405, 98...</td>\n",
       "    </tr>\n",
       "    <tr>\n",
       "      <th>3</th>\n",
       "      <td>2024-01-01 01:00:00</td>\n",
       "      <td>01:00</td>\n",
       "      <td>[[94.24924, 98.776405, 99.27942, 99.23369, 99....</td>\n",
       "    </tr>\n",
       "    <tr>\n",
       "      <th>4</th>\n",
       "      <td>2024-01-01 04:00:00</td>\n",
       "      <td>04:00</td>\n",
       "      <td>[[99.096504, 98.95932, 98.684944, 98.59348, 98...</td>\n",
       "    </tr>\n",
       "    <tr>\n",
       "      <th>5</th>\n",
       "      <td>2024-01-01 05:00:00</td>\n",
       "      <td>05:00</td>\n",
       "      <td>[[98.273384, 97.99901, 98.684944, 99.32515, 99...</td>\n",
       "    </tr>\n",
       "  </tbody>\n",
       "</table>\n",
       "</div>"
      ],
      "text/plain": [
       "                fecha   hora  \\\n",
       "0 2024-01-01 02:00:00  02:00   \n",
       "1 2024-01-01 00:00:00  00:00   \n",
       "2 2024-01-01 03:00:00  03:00   \n",
       "3 2024-01-01 01:00:00  01:00   \n",
       "4 2024-01-01 04:00:00  04:00   \n",
       "5 2024-01-01 05:00:00  05:00   \n",
       "\n",
       "                                           radiancia  \n",
       "0  [[98.684944, 98.82213, 98.684944, 98.86786, 98...  \n",
       "1  [[97.861824, 97.67891, 97.22162, 97.084435, 97...  \n",
       "2  [[97.99901, 98.41057, 98.684944, 98.776405, 98...  \n",
       "3  [[94.24924, 98.776405, 99.27942, 99.23369, 99....  \n",
       "4  [[99.096504, 98.95932, 98.684944, 98.59348, 98...  \n",
       "5  [[98.273384, 97.99901, 98.684944, 99.32515, 99...  "
      ]
     },
     "execution_count": 6,
     "metadata": {},
     "output_type": "execute_result"
    }
   ],
   "source": [
    "df_imagenes"
   ]
  },
  {
   "cell_type": "code",
   "execution_count": null,
   "id": "058ab19e",
   "metadata": {},
   "outputs": [],
   "source": []
  }
 ],
 "metadata": {
  "kernelspec": {
   "display_name": "data8",
   "language": "python",
   "name": "python3"
  },
  "language_info": {
   "codemirror_mode": {
    "name": "ipython",
    "version": 3
   },
   "file_extension": ".py",
   "mimetype": "text/x-python",
   "name": "python",
   "nbconvert_exporter": "python",
   "pygments_lexer": "ipython3",
   "version": "3.10.12"
  }
 },
 "nbformat": 4,
 "nbformat_minor": 5
}
